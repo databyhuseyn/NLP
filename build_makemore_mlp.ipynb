{
  "nbformat": 4,
  "nbformat_minor": 0,
  "metadata": {
    "colab": {
      "provenance": [],
      "authorship_tag": "ABX9TyOVYtcPnejd/orrqOvVpfFY",
      "include_colab_link": true
    },
    "kernelspec": {
      "name": "python3",
      "display_name": "Python 3"
    },
    "language_info": {
      "name": "python"
    }
  },
  "cells": [
    {
      "cell_type": "markdown",
      "metadata": {
        "id": "view-in-github",
        "colab_type": "text"
      },
      "source": [
        "<a href=\"https://colab.research.google.com/github/databyhuseyn/NLP/blob/main/build_makemore_mlp.ipynb\" target=\"_parent\"><img src=\"https://colab.research.google.com/assets/colab-badge.svg\" alt=\"Open In Colab\"/></a>"
      ]
    },
    {
      "cell_type": "code",
      "source": [
        "import torch\n",
        "import torch.nn.functional as F\n",
        "import matplotlib.pyplot as plt\n",
        "import tensorflow as tf"
      ],
      "metadata": {
        "id": "rj6tGPnfEXGG"
      },
      "execution_count": 1,
      "outputs": []
    },
    {
      "cell_type": "code",
      "execution_count": 3,
      "metadata": {
        "colab": {
          "base_uri": "https://localhost:8080/"
        },
        "id": "yuxa9ePL5H6c",
        "outputId": "b635b3d9-e331-4a84-803c-4fb9fe9ab97b"
      },
      "outputs": [
        {
          "output_type": "execute_result",
          "data": {
            "text/plain": [
              "['emma', 'olivia', 'ava', 'isabella', 'sophia', 'charlotte', 'mia', 'amelia']"
            ]
          },
          "metadata": {},
          "execution_count": 3
        }
      ],
      "source": [
        "words = open('names.txt', 'r').read().splitlines()\n",
        "words[:8]"
      ]
    },
    {
      "cell_type": "code",
      "source": [
        "len(words)"
      ],
      "metadata": {
        "colab": {
          "base_uri": "https://localhost:8080/"
        },
        "id": "R20s1dHB7Om9",
        "outputId": "91ad259e-3a92-4954-bda0-261ff8abb2fc"
      },
      "execution_count": 4,
      "outputs": [
        {
          "output_type": "execute_result",
          "data": {
            "text/plain": [
              "32033"
            ]
          },
          "metadata": {},
          "execution_count": 4
        }
      ]
    },
    {
      "cell_type": "code",
      "source": [
        "chars = sorted(list(set(''.join(words))))\n",
        "stoi = {s: i + 1 for i, s in enumerate(chars)}\n",
        "stoi['.'] = 0\n",
        "itos = {i: s for s, i in stoi.items()}\n",
        "print(itos)"
      ],
      "metadata": {
        "colab": {
          "base_uri": "https://localhost:8080/"
        },
        "id": "OLik0XoV7ZLL",
        "outputId": "4526c9b0-67be-4c3b-839e-b17627a4dc32"
      },
      "execution_count": 5,
      "outputs": [
        {
          "output_type": "stream",
          "name": "stdout",
          "text": [
            "{1: 'a', 2: 'b', 3: 'c', 4: 'd', 5: 'e', 6: 'f', 7: 'g', 8: 'h', 9: 'i', 10: 'j', 11: 'k', 12: 'l', 13: 'm', 14: 'n', 15: 'o', 16: 'p', 17: 'q', 18: 'r', 19: 's', 20: 't', 21: 'u', 22: 'v', 23: 'w', 24: 'x', 25: 'y', 26: 'z', 0: '.'}\n"
          ]
        }
      ]
    },
    {
      "cell_type": "code",
      "source": [
        "block_size = 3\n",
        "X, Y = [], []\n",
        "for w in words[:5]:\n",
        "  # print(w)\n",
        "  context = [0] * block_size\n",
        "  for ch in w + '.':\n",
        "    ix = stoi[ch]\n",
        "    X.append(context)\n",
        "    Y.append(ix)\n",
        "    print(''.join(itos[i] for i in context), '--->', itos[ix])\n",
        "    context = context[1:] + [ix]\n",
        "\n",
        "X = torch.tensor(X)\n",
        "Y = torch.tensor(Y)"
      ],
      "metadata": {
        "colab": {
          "base_uri": "https://localhost:8080/"
        },
        "id": "mIkBGESq7tdG",
        "outputId": "026514e4-0b7e-4ff0-ebdd-63b8bf7410b1"
      },
      "execution_count": 6,
      "outputs": [
        {
          "output_type": "stream",
          "name": "stdout",
          "text": [
            "... ---> e\n",
            "..e ---> m\n",
            ".em ---> m\n",
            "emm ---> a\n",
            "mma ---> .\n",
            "... ---> o\n",
            "..o ---> l\n",
            ".ol ---> i\n",
            "oli ---> v\n",
            "liv ---> i\n",
            "ivi ---> a\n",
            "via ---> .\n",
            "... ---> a\n",
            "..a ---> v\n",
            ".av ---> a\n",
            "ava ---> .\n",
            "... ---> i\n",
            "..i ---> s\n",
            ".is ---> a\n",
            "isa ---> b\n",
            "sab ---> e\n",
            "abe ---> l\n",
            "bel ---> l\n",
            "ell ---> a\n",
            "lla ---> .\n",
            "... ---> s\n",
            "..s ---> o\n",
            ".so ---> p\n",
            "sop ---> h\n",
            "oph ---> i\n",
            "phi ---> a\n",
            "hia ---> .\n"
          ]
        }
      ]
    },
    {
      "cell_type": "code",
      "source": [
        "X.shape, X.dtype, Y.shape, Y.dtype"
      ],
      "metadata": {
        "colab": {
          "base_uri": "https://localhost:8080/"
        },
        "id": "NlzkHuKAEoZ2",
        "outputId": "712ba7a6-0055-4e77-9018-a7cbb1ff7962"
      },
      "execution_count": 7,
      "outputs": [
        {
          "output_type": "execute_result",
          "data": {
            "text/plain": [
              "(torch.Size([32, 3]), torch.int64, torch.Size([32]), torch.int64)"
            ]
          },
          "metadata": {},
          "execution_count": 7
        }
      ]
    },
    {
      "cell_type": "code",
      "source": [
        "Y"
      ],
      "metadata": {
        "colab": {
          "base_uri": "https://localhost:8080/"
        },
        "id": "_YFEJShuJKOm",
        "outputId": "b805a8c2-8419-4d88-d6d7-e84aadfd2ad1"
      },
      "execution_count": 8,
      "outputs": [
        {
          "output_type": "execute_result",
          "data": {
            "text/plain": [
              "tensor([ 5, 13, 13,  1,  0, 15, 12,  9, 22,  9,  1,  0,  1, 22,  1,  0,  9, 19,\n",
              "         1,  2,  5, 12, 12,  1,  0, 19, 15, 16,  8,  9,  1,  0])"
            ]
          },
          "metadata": {},
          "execution_count": 8
        }
      ]
    },
    {
      "cell_type": "code",
      "source": [
        "C = torch.randn((27, 2), requires_grad=True)\n",
        "C"
      ],
      "metadata": {
        "colab": {
          "base_uri": "https://localhost:8080/"
        },
        "id": "L3cc7okmJKjM",
        "outputId": "c9e8b8b7-3d77-487d-f190-9b7d16255115"
      },
      "execution_count": 72,
      "outputs": [
        {
          "output_type": "execute_result",
          "data": {
            "text/plain": [
              "tensor([[-1.4857, -0.7166],\n",
              "        [ 0.0641, -1.1336],\n",
              "        [-1.3880,  0.8943],\n",
              "        [ 1.8821,  0.2960],\n",
              "        [-0.8075, -0.5792],\n",
              "        [ 1.5774,  1.5419],\n",
              "        [ 1.5294,  0.3459],\n",
              "        [ 0.3239, -0.8447],\n",
              "        [ 0.5694,  0.2284],\n",
              "        [ 0.1529,  0.3333],\n",
              "        [-0.0366,  0.2856],\n",
              "        [-0.2331,  0.3990],\n",
              "        [-1.8574,  0.6656],\n",
              "        [ 0.6570, -0.5125],\n",
              "        [-0.7576, -1.1268],\n",
              "        [-2.3140,  0.3900],\n",
              "        [-0.5094,  0.3089],\n",
              "        [ 0.1566,  0.7551],\n",
              "        [ 1.1835, -1.2515],\n",
              "        [ 0.3526, -1.7500],\n",
              "        [-1.0412,  0.6442],\n",
              "        [-0.5829, -1.6310],\n",
              "        [ 0.4048, -1.6298],\n",
              "        [ 1.9486, -0.4201],\n",
              "        [-2.2887, -0.1079],\n",
              "        [ 1.3564,  0.6291],\n",
              "        [ 0.7267,  1.9077]], requires_grad=True)"
            ]
          },
          "metadata": {},
          "execution_count": 72
        }
      ]
    },
    {
      "cell_type": "code",
      "source": [
        "F.one_hot(torch.tensor(5), num_classes = 27).float()"
      ],
      "metadata": {
        "colab": {
          "base_uri": "https://localhost:8080/"
        },
        "id": "pG8BSjZ2JN2x",
        "outputId": "1e314002-46d7-4ed6-cf16-e4082ee9cbd8"
      },
      "execution_count": 10,
      "outputs": [
        {
          "output_type": "execute_result",
          "data": {
            "text/plain": [
              "tensor([0., 0., 0., 0., 0., 1., 0., 0., 0., 0., 0., 0., 0., 0., 0., 0., 0., 0.,\n",
              "        0., 0., 0., 0., 0., 0., 0., 0., 0.])"
            ]
          },
          "metadata": {},
          "execution_count": 10
        }
      ]
    },
    {
      "cell_type": "code",
      "source": [
        "X"
      ],
      "metadata": {
        "colab": {
          "base_uri": "https://localhost:8080/"
        },
        "id": "JvQ7rUhjLi2W",
        "outputId": "53889b59-8a40-403d-a9db-4cd2d1a51578"
      },
      "execution_count": 11,
      "outputs": [
        {
          "output_type": "execute_result",
          "data": {
            "text/plain": [
              "tensor([[ 0,  0,  0],\n",
              "        [ 0,  0,  5],\n",
              "        [ 0,  5, 13],\n",
              "        [ 5, 13, 13],\n",
              "        [13, 13,  1],\n",
              "        [ 0,  0,  0],\n",
              "        [ 0,  0, 15],\n",
              "        [ 0, 15, 12],\n",
              "        [15, 12,  9],\n",
              "        [12,  9, 22],\n",
              "        [ 9, 22,  9],\n",
              "        [22,  9,  1],\n",
              "        [ 0,  0,  0],\n",
              "        [ 0,  0,  1],\n",
              "        [ 0,  1, 22],\n",
              "        [ 1, 22,  1],\n",
              "        [ 0,  0,  0],\n",
              "        [ 0,  0,  9],\n",
              "        [ 0,  9, 19],\n",
              "        [ 9, 19,  1],\n",
              "        [19,  1,  2],\n",
              "        [ 1,  2,  5],\n",
              "        [ 2,  5, 12],\n",
              "        [ 5, 12, 12],\n",
              "        [12, 12,  1],\n",
              "        [ 0,  0,  0],\n",
              "        [ 0,  0, 19],\n",
              "        [ 0, 19, 15],\n",
              "        [19, 15, 16],\n",
              "        [15, 16,  8],\n",
              "        [16,  8,  9],\n",
              "        [ 8,  9,  1]])"
            ]
          },
          "metadata": {},
          "execution_count": 11
        }
      ]
    },
    {
      "cell_type": "code",
      "source": [
        "Y"
      ],
      "metadata": {
        "colab": {
          "base_uri": "https://localhost:8080/"
        },
        "id": "gd2JNvuTMj6y",
        "outputId": "bc6feb49-1be1-4166-dc2d-2fcca543571b"
      },
      "execution_count": 12,
      "outputs": [
        {
          "output_type": "execute_result",
          "data": {
            "text/plain": [
              "tensor([ 5, 13, 13,  1,  0, 15, 12,  9, 22,  9,  1,  0,  1, 22,  1,  0,  9, 19,\n",
              "         1,  2,  5, 12, 12,  1,  0, 19, 15, 16,  8,  9,  1,  0])"
            ]
          },
          "metadata": {},
          "execution_count": 12
        }
      ]
    },
    {
      "cell_type": "code",
      "source": [
        "C[X].shape"
      ],
      "metadata": {
        "colab": {
          "base_uri": "https://localhost:8080/"
        },
        "id": "AWBPsdC1LHPo",
        "outputId": "e4629d00-9a0c-4506-b09b-23dd44f63886"
      },
      "execution_count": 13,
      "outputs": [
        {
          "output_type": "execute_result",
          "data": {
            "text/plain": [
              "torch.Size([32, 3, 2])"
            ]
          },
          "metadata": {},
          "execution_count": 13
        }
      ]
    },
    {
      "cell_type": "code",
      "source": [
        "X[2]"
      ],
      "metadata": {
        "colab": {
          "base_uri": "https://localhost:8080/"
        },
        "id": "c3s1C-M2Mprn",
        "outputId": "63b862fc-046f-478b-f47b-6b1bdc2339e0"
      },
      "execution_count": 14,
      "outputs": [
        {
          "output_type": "execute_result",
          "data": {
            "text/plain": [
              "tensor([ 0,  5, 13])"
            ]
          },
          "metadata": {},
          "execution_count": 14
        }
      ]
    },
    {
      "cell_type": "code",
      "source": [
        "C[X[2]]"
      ],
      "metadata": {
        "colab": {
          "base_uri": "https://localhost:8080/"
        },
        "id": "PEffUpHVLcEB",
        "outputId": "ef223e9c-1575-4fbb-b836-5123eebe464d"
      },
      "execution_count": 15,
      "outputs": [
        {
          "output_type": "execute_result",
          "data": {
            "text/plain": [
              "tensor([[-1.9875,  0.4560],\n",
              "        [-0.0800, -1.0856],\n",
              "        [-0.6681,  0.1803]])"
            ]
          },
          "metadata": {},
          "execution_count": 15
        }
      ]
    },
    {
      "cell_type": "code",
      "source": [
        "emb = C[X]\n",
        "emb.shape"
      ],
      "metadata": {
        "colab": {
          "base_uri": "https://localhost:8080/"
        },
        "id": "CPBDCeqoMr_M",
        "outputId": "4e84c07f-675a-4da5-eb1d-493a800a6da6"
      },
      "execution_count": 16,
      "outputs": [
        {
          "output_type": "execute_result",
          "data": {
            "text/plain": [
              "torch.Size([32, 3, 2])"
            ]
          },
          "metadata": {},
          "execution_count": 16
        }
      ]
    },
    {
      "cell_type": "code",
      "source": [
        "W1 = torch.randn((6, 100), requires_grad=True)\n",
        "b1 = torch.randn(100, requires_grad=True)"
      ],
      "metadata": {
        "id": "f9uiAG3iMtce"
      },
      "execution_count": 73,
      "outputs": []
    },
    {
      "cell_type": "code",
      "source": [
        "torch.cat([emb[:, 0, :], emb[:, 1, :], emb[:, 2, :]], 1).shape"
      ],
      "metadata": {
        "colab": {
          "base_uri": "https://localhost:8080/"
        },
        "id": "ST4R2UC9M4o7",
        "outputId": "43375891-bd10-4ea1-af70-5c933723b78b"
      },
      "execution_count": 18,
      "outputs": [
        {
          "output_type": "execute_result",
          "data": {
            "text/plain": [
              "torch.Size([32, 6])"
            ]
          },
          "metadata": {},
          "execution_count": 18
        }
      ]
    },
    {
      "cell_type": "code",
      "source": [
        "emb[:, 0, :].shape, emb[:, 1, :].shape, emb[:, 2, :].shape"
      ],
      "metadata": {
        "colab": {
          "base_uri": "https://localhost:8080/"
        },
        "id": "B2ZixAxnNJH9",
        "outputId": "db6cb1b8-0405-46c0-f1f0-609375a5e4a4"
      },
      "execution_count": 19,
      "outputs": [
        {
          "output_type": "execute_result",
          "data": {
            "text/plain": [
              "(torch.Size([32, 2]), torch.Size([32, 2]), torch.Size([32, 2]))"
            ]
          },
          "metadata": {},
          "execution_count": 19
        }
      ]
    },
    {
      "cell_type": "code",
      "source": [
        "# automate previous process\n",
        "torch.cat(torch.unbind(emb, 1), 1)"
      ],
      "metadata": {
        "colab": {
          "base_uri": "https://localhost:8080/"
        },
        "id": "Qd9e24jROgVD",
        "outputId": "770652a0-0b17-4812-80ef-0a02cbb83e66",
        "collapsed": true
      },
      "execution_count": 20,
      "outputs": [
        {
          "output_type": "execute_result",
          "data": {
            "text/plain": [
              "tensor([[-1.9875,  0.4560, -1.9875,  0.4560, -1.9875,  0.4560],\n",
              "        [-1.9875,  0.4560, -1.9875,  0.4560, -0.0800, -1.0856],\n",
              "        [-1.9875,  0.4560, -0.0800, -1.0856, -0.6681,  0.1803],\n",
              "        [-0.0800, -1.0856, -0.6681,  0.1803, -0.6681,  0.1803],\n",
              "        [-0.6681,  0.1803, -0.6681,  0.1803,  1.2728,  1.3444],\n",
              "        [-1.9875,  0.4560, -1.9875,  0.4560, -1.9875,  0.4560],\n",
              "        [-1.9875,  0.4560, -1.9875,  0.4560,  0.0802, -0.4106],\n",
              "        [-1.9875,  0.4560,  0.0802, -0.4106, -0.4062,  2.4792],\n",
              "        [ 0.0802, -0.4106, -0.4062,  2.4792,  0.5815, -1.0247],\n",
              "        [-0.4062,  2.4792,  0.5815, -1.0247, -0.1527, -0.8139],\n",
              "        [ 0.5815, -1.0247, -0.1527, -0.8139,  0.5815, -1.0247],\n",
              "        [-0.1527, -0.8139,  0.5815, -1.0247,  1.2728,  1.3444],\n",
              "        [-1.9875,  0.4560, -1.9875,  0.4560, -1.9875,  0.4560],\n",
              "        [-1.9875,  0.4560, -1.9875,  0.4560,  1.2728,  1.3444],\n",
              "        [-1.9875,  0.4560,  1.2728,  1.3444, -0.1527, -0.8139],\n",
              "        [ 1.2728,  1.3444, -0.1527, -0.8139,  1.2728,  1.3444],\n",
              "        [-1.9875,  0.4560, -1.9875,  0.4560, -1.9875,  0.4560],\n",
              "        [-1.9875,  0.4560, -1.9875,  0.4560,  0.5815, -1.0247],\n",
              "        [-1.9875,  0.4560,  0.5815, -1.0247, -1.6184, -1.3012],\n",
              "        [ 0.5815, -1.0247, -1.6184, -1.3012,  1.2728,  1.3444],\n",
              "        [-1.6184, -1.3012,  1.2728,  1.3444, -1.3036,  0.0609],\n",
              "        [ 1.2728,  1.3444, -1.3036,  0.0609, -0.0800, -1.0856],\n",
              "        [-1.3036,  0.0609, -0.0800, -1.0856, -0.4062,  2.4792],\n",
              "        [-0.0800, -1.0856, -0.4062,  2.4792, -0.4062,  2.4792],\n",
              "        [-0.4062,  2.4792, -0.4062,  2.4792,  1.2728,  1.3444],\n",
              "        [-1.9875,  0.4560, -1.9875,  0.4560, -1.9875,  0.4560],\n",
              "        [-1.9875,  0.4560, -1.9875,  0.4560, -1.6184, -1.3012],\n",
              "        [-1.9875,  0.4560, -1.6184, -1.3012,  0.0802, -0.4106],\n",
              "        [-1.6184, -1.3012,  0.0802, -0.4106, -0.8821,  0.7641],\n",
              "        [ 0.0802, -0.4106, -0.8821,  0.7641, -0.4912,  0.7013],\n",
              "        [-0.8821,  0.7641, -0.4912,  0.7013,  0.5815, -1.0247],\n",
              "        [-0.4912,  0.7013,  0.5815, -1.0247,  1.2728,  1.3444]])"
            ]
          },
          "metadata": {},
          "execution_count": 20
        }
      ]
    },
    {
      "cell_type": "code",
      "source": [
        "a = torch.arange(18)"
      ],
      "metadata": {
        "id": "T9ydm-ZDOs48"
      },
      "execution_count": 21,
      "outputs": []
    },
    {
      "cell_type": "code",
      "source": [
        "a.shape"
      ],
      "metadata": {
        "colab": {
          "base_uri": "https://localhost:8080/"
        },
        "id": "W0AZPtouO_nH",
        "outputId": "c9e84c5b-db21-4c3a-bf7d-aed98b6240f5"
      },
      "execution_count": 22,
      "outputs": [
        {
          "output_type": "execute_result",
          "data": {
            "text/plain": [
              "torch.Size([18])"
            ]
          },
          "metadata": {},
          "execution_count": 22
        }
      ]
    },
    {
      "cell_type": "code",
      "source": [
        "a.view(3, 3, 2)"
      ],
      "metadata": {
        "colab": {
          "base_uri": "https://localhost:8080/"
        },
        "id": "TnCv2zIlPAbX",
        "outputId": "9d63e23c-9c8c-4683-da7d-b170b563985f"
      },
      "execution_count": 23,
      "outputs": [
        {
          "output_type": "execute_result",
          "data": {
            "text/plain": [
              "tensor([[[ 0,  1],\n",
              "         [ 2,  3],\n",
              "         [ 4,  5]],\n",
              "\n",
              "        [[ 6,  7],\n",
              "         [ 8,  9],\n",
              "         [10, 11]],\n",
              "\n",
              "        [[12, 13],\n",
              "         [14, 15],\n",
              "         [16, 17]]])"
            ]
          },
          "metadata": {},
          "execution_count": 23
        }
      ]
    },
    {
      "cell_type": "code",
      "source": [
        "a.storage()"
      ],
      "metadata": {
        "colab": {
          "base_uri": "https://localhost:8080/"
        },
        "id": "rsnCNWItPBxV",
        "outputId": "f917f94d-80e6-4221-9666-325b9207b15d"
      },
      "execution_count": 24,
      "outputs": [
        {
          "output_type": "stream",
          "name": "stderr",
          "text": [
            "/tmp/ipython-input-214256462.py:1: UserWarning: TypedStorage is deprecated. It will be removed in the future and UntypedStorage will be the only storage class. This should only matter to you if you are using storages directly.  To access UntypedStorage directly, use tensor.untyped_storage() instead of tensor.storage()\n",
            "  a.storage()\n"
          ]
        },
        {
          "output_type": "execute_result",
          "data": {
            "text/plain": [
              " 0\n",
              " 1\n",
              " 2\n",
              " 3\n",
              " 4\n",
              " 5\n",
              " 6\n",
              " 7\n",
              " 8\n",
              " 9\n",
              " 10\n",
              " 11\n",
              " 12\n",
              " 13\n",
              " 14\n",
              " 15\n",
              " 16\n",
              " 17\n",
              "[torch.storage.TypedStorage(dtype=torch.int64, device=cpu) of size 18]"
            ]
          },
          "metadata": {},
          "execution_count": 24
        }
      ]
    },
    {
      "cell_type": "code",
      "source": [
        "emb.view(32, 6)       # view is more efficient"
      ],
      "metadata": {
        "colab": {
          "base_uri": "https://localhost:8080/"
        },
        "id": "e_SZ3r_iPcGQ",
        "outputId": "a999d654-27ee-4bce-8841-18eb1913e2a5",
        "collapsed": true
      },
      "execution_count": 25,
      "outputs": [
        {
          "output_type": "execute_result",
          "data": {
            "text/plain": [
              "tensor([[-1.9875,  0.4560, -1.9875,  0.4560, -1.9875,  0.4560],\n",
              "        [-1.9875,  0.4560, -1.9875,  0.4560, -0.0800, -1.0856],\n",
              "        [-1.9875,  0.4560, -0.0800, -1.0856, -0.6681,  0.1803],\n",
              "        [-0.0800, -1.0856, -0.6681,  0.1803, -0.6681,  0.1803],\n",
              "        [-0.6681,  0.1803, -0.6681,  0.1803,  1.2728,  1.3444],\n",
              "        [-1.9875,  0.4560, -1.9875,  0.4560, -1.9875,  0.4560],\n",
              "        [-1.9875,  0.4560, -1.9875,  0.4560,  0.0802, -0.4106],\n",
              "        [-1.9875,  0.4560,  0.0802, -0.4106, -0.4062,  2.4792],\n",
              "        [ 0.0802, -0.4106, -0.4062,  2.4792,  0.5815, -1.0247],\n",
              "        [-0.4062,  2.4792,  0.5815, -1.0247, -0.1527, -0.8139],\n",
              "        [ 0.5815, -1.0247, -0.1527, -0.8139,  0.5815, -1.0247],\n",
              "        [-0.1527, -0.8139,  0.5815, -1.0247,  1.2728,  1.3444],\n",
              "        [-1.9875,  0.4560, -1.9875,  0.4560, -1.9875,  0.4560],\n",
              "        [-1.9875,  0.4560, -1.9875,  0.4560,  1.2728,  1.3444],\n",
              "        [-1.9875,  0.4560,  1.2728,  1.3444, -0.1527, -0.8139],\n",
              "        [ 1.2728,  1.3444, -0.1527, -0.8139,  1.2728,  1.3444],\n",
              "        [-1.9875,  0.4560, -1.9875,  0.4560, -1.9875,  0.4560],\n",
              "        [-1.9875,  0.4560, -1.9875,  0.4560,  0.5815, -1.0247],\n",
              "        [-1.9875,  0.4560,  0.5815, -1.0247, -1.6184, -1.3012],\n",
              "        [ 0.5815, -1.0247, -1.6184, -1.3012,  1.2728,  1.3444],\n",
              "        [-1.6184, -1.3012,  1.2728,  1.3444, -1.3036,  0.0609],\n",
              "        [ 1.2728,  1.3444, -1.3036,  0.0609, -0.0800, -1.0856],\n",
              "        [-1.3036,  0.0609, -0.0800, -1.0856, -0.4062,  2.4792],\n",
              "        [-0.0800, -1.0856, -0.4062,  2.4792, -0.4062,  2.4792],\n",
              "        [-0.4062,  2.4792, -0.4062,  2.4792,  1.2728,  1.3444],\n",
              "        [-1.9875,  0.4560, -1.9875,  0.4560, -1.9875,  0.4560],\n",
              "        [-1.9875,  0.4560, -1.9875,  0.4560, -1.6184, -1.3012],\n",
              "        [-1.9875,  0.4560, -1.6184, -1.3012,  0.0802, -0.4106],\n",
              "        [-1.6184, -1.3012,  0.0802, -0.4106, -0.8821,  0.7641],\n",
              "        [ 0.0802, -0.4106, -0.8821,  0.7641, -0.4912,  0.7013],\n",
              "        [-0.8821,  0.7641, -0.4912,  0.7013,  0.5815, -1.0247],\n",
              "        [-0.4912,  0.7013,  0.5815, -1.0247,  1.2728,  1.3444]])"
            ]
          },
          "metadata": {},
          "execution_count": 25
        }
      ]
    },
    {
      "cell_type": "code",
      "source": [
        "emb.view(32, 6) == torch.cat(torch.unbind(emb, 1), 1)"
      ],
      "metadata": {
        "colab": {
          "base_uri": "https://localhost:8080/"
        },
        "id": "eEFtNZMDQLf9",
        "outputId": "7a5f4fad-f8af-4792-ee23-df11f0cc35ae",
        "collapsed": true
      },
      "execution_count": 26,
      "outputs": [
        {
          "output_type": "execute_result",
          "data": {
            "text/plain": [
              "tensor([[True, True, True, True, True, True],\n",
              "        [True, True, True, True, True, True],\n",
              "        [True, True, True, True, True, True],\n",
              "        [True, True, True, True, True, True],\n",
              "        [True, True, True, True, True, True],\n",
              "        [True, True, True, True, True, True],\n",
              "        [True, True, True, True, True, True],\n",
              "        [True, True, True, True, True, True],\n",
              "        [True, True, True, True, True, True],\n",
              "        [True, True, True, True, True, True],\n",
              "        [True, True, True, True, True, True],\n",
              "        [True, True, True, True, True, True],\n",
              "        [True, True, True, True, True, True],\n",
              "        [True, True, True, True, True, True],\n",
              "        [True, True, True, True, True, True],\n",
              "        [True, True, True, True, True, True],\n",
              "        [True, True, True, True, True, True],\n",
              "        [True, True, True, True, True, True],\n",
              "        [True, True, True, True, True, True],\n",
              "        [True, True, True, True, True, True],\n",
              "        [True, True, True, True, True, True],\n",
              "        [True, True, True, True, True, True],\n",
              "        [True, True, True, True, True, True],\n",
              "        [True, True, True, True, True, True],\n",
              "        [True, True, True, True, True, True],\n",
              "        [True, True, True, True, True, True],\n",
              "        [True, True, True, True, True, True],\n",
              "        [True, True, True, True, True, True],\n",
              "        [True, True, True, True, True, True],\n",
              "        [True, True, True, True, True, True],\n",
              "        [True, True, True, True, True, True],\n",
              "        [True, True, True, True, True, True]])"
            ]
          },
          "metadata": {},
          "execution_count": 26
        }
      ]
    },
    {
      "cell_type": "code",
      "source": [
        "h = torch.tanh(emb.view(emb.shape[0], 6) @ W1 + b1)"
      ],
      "metadata": {
        "id": "X6IC6k9vQQ9J"
      },
      "execution_count": 27,
      "outputs": []
    },
    {
      "cell_type": "code",
      "source": [
        "W2 = torch.randn((100, 27), requires_grad=True)\n",
        "b2 = torch.randn(27, requires_grad=True)"
      ],
      "metadata": {
        "id": "-GpC8CCUQqj0"
      },
      "execution_count": 74,
      "outputs": []
    },
    {
      "cell_type": "code",
      "source": [
        "logits = h @ W2 + b2"
      ],
      "metadata": {
        "id": "wAn78YblQvTi"
      },
      "execution_count": 29,
      "outputs": []
    },
    {
      "cell_type": "code",
      "source": [
        "logits.shape"
      ],
      "metadata": {
        "colab": {
          "base_uri": "https://localhost:8080/"
        },
        "id": "UcPg3HS2Q5tk",
        "outputId": "8c901bce-317f-41e4-c640-ec16f623c768"
      },
      "execution_count": 30,
      "outputs": [
        {
          "output_type": "execute_result",
          "data": {
            "text/plain": [
              "torch.Size([32, 27])"
            ]
          },
          "metadata": {},
          "execution_count": 30
        }
      ]
    },
    {
      "cell_type": "code",
      "source": [
        "counts = logits.exp()   # softmax"
      ],
      "metadata": {
        "id": "N9SFbT9DQ7Xl"
      },
      "execution_count": 31,
      "outputs": []
    },
    {
      "cell_type": "code",
      "source": [
        "prob = counts / counts.sum(1, keepdims = True)    # softmax"
      ],
      "metadata": {
        "id": "UV7GqPSaRAtO"
      },
      "execution_count": 32,
      "outputs": []
    },
    {
      "cell_type": "code",
      "source": [
        "prob.shape"
      ],
      "metadata": {
        "colab": {
          "base_uri": "https://localhost:8080/"
        },
        "id": "TT93uCkqRKZE",
        "outputId": "5905e527-1468-4536-a9d7-0cf4d8440f04"
      },
      "execution_count": 33,
      "outputs": [
        {
          "output_type": "execute_result",
          "data": {
            "text/plain": [
              "torch.Size([32, 27])"
            ]
          },
          "metadata": {},
          "execution_count": 33
        }
      ]
    },
    {
      "cell_type": "code",
      "source": [
        "Y"
      ],
      "metadata": {
        "colab": {
          "base_uri": "https://localhost:8080/"
        },
        "id": "WTfl4H71RMHx",
        "outputId": "09e94167-f26f-4f2a-b977-399092f28c54"
      },
      "execution_count": 34,
      "outputs": [
        {
          "output_type": "execute_result",
          "data": {
            "text/plain": [
              "tensor([ 5, 13, 13,  1,  0, 15, 12,  9, 22,  9,  1,  0,  1, 22,  1,  0,  9, 19,\n",
              "         1,  2,  5, 12, 12,  1,  0, 19, 15, 16,  8,  9,  1,  0])"
            ]
          },
          "metadata": {},
          "execution_count": 34
        }
      ]
    },
    {
      "cell_type": "code",
      "source": [
        "pred_proba = prob[torch.arange(32), Y]\n",
        "pred_proba"
      ],
      "metadata": {
        "colab": {
          "base_uri": "https://localhost:8080/"
        },
        "id": "9nzs_mqJRMm7",
        "outputId": "44616a89-ff7b-4abf-c19b-7a410a4ab181"
      },
      "execution_count": 60,
      "outputs": [
        {
          "output_type": "execute_result",
          "data": {
            "text/plain": [
              "tensor([6.2997e-11, 9.9557e-01, 1.7460e-05, 9.1464e-04, 4.4758e-08, 1.4588e-06,\n",
              "        7.8709e-13, 4.2092e-12, 4.0597e-10, 4.5261e-07, 1.4269e-01, 1.3363e-15,\n",
              "        9.6618e-10, 2.0534e-09, 8.3352e-09, 1.7996e-10, 3.7751e-11, 1.4442e-14,\n",
              "        3.1529e-09, 6.9430e-16, 2.7207e-14, 1.6628e-08, 1.3767e-11, 1.3574e-06,\n",
              "        4.6600e-03, 5.8108e-16, 3.3420e-05, 2.4421e-14, 5.0820e-09, 1.5989e-09,\n",
              "        5.3880e-10, 1.5607e-10])"
            ]
          },
          "metadata": {},
          "execution_count": 60
        }
      ]
    },
    {
      "cell_type": "code",
      "source": [],
      "metadata": {
        "id": "vLNQWrDs4tG8"
      },
      "execution_count": null,
      "outputs": []
    }
  ]
}