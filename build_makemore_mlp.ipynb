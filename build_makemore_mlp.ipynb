{
  "nbformat": 4,
  "nbformat_minor": 0,
  "metadata": {
    "colab": {
      "provenance": [],
      "authorship_tag": "ABX9TyPDVCzzE6N80IYMGMW7IY80",
      "include_colab_link": true
    },
    "kernelspec": {
      "name": "python3",
      "display_name": "Python 3"
    },
    "language_info": {
      "name": "python"
    }
  },
  "cells": [
    {
      "cell_type": "markdown",
      "metadata": {
        "id": "view-in-github",
        "colab_type": "text"
      },
      "source": [
        "<a href=\"https://colab.research.google.com/github/databyhuseyn/NLP/blob/main/build_makemore_mlp.ipynb\" target=\"_parent\"><img src=\"https://colab.research.google.com/assets/colab-badge.svg\" alt=\"Open In Colab\"/></a>"
      ]
    },
    {
      "cell_type": "code",
      "source": [
        "import torch\n",
        "import torch.nn.functional as F\n",
        "import matplotlib.pyplot as plt\n",
        "import tensorflow as tf"
      ],
      "metadata": {
        "id": "rj6tGPnfEXGG"
      },
      "execution_count": 2,
      "outputs": []
    },
    {
      "cell_type": "code",
      "execution_count": 3,
      "metadata": {
        "colab": {
          "base_uri": "https://localhost:8080/"
        },
        "id": "yuxa9ePL5H6c",
        "outputId": "9d76d305-94ad-4da2-974c-8c094b4af520"
      },
      "outputs": [
        {
          "output_type": "execute_result",
          "data": {
            "text/plain": [
              "['emma', 'olivia', 'ava', 'isabella', 'sophia', 'charlotte', 'mia', 'amelia']"
            ]
          },
          "metadata": {},
          "execution_count": 3
        }
      ],
      "source": [
        "words = open('names.txt', 'r').read().splitlines()\n",
        "words[:8]"
      ]
    },
    {
      "cell_type": "code",
      "source": [
        "len(words)"
      ],
      "metadata": {
        "colab": {
          "base_uri": "https://localhost:8080/"
        },
        "id": "R20s1dHB7Om9",
        "outputId": "815d3644-02a5-4741-97b6-6d0679d9ba24"
      },
      "execution_count": 4,
      "outputs": [
        {
          "output_type": "execute_result",
          "data": {
            "text/plain": [
              "32033"
            ]
          },
          "metadata": {},
          "execution_count": 4
        }
      ]
    },
    {
      "cell_type": "code",
      "source": [
        "chars = sorted(list(set(''.join(words))))\n",
        "stoi = {s: i + 1 for i, s in enumerate(chars)}\n",
        "stoi['.'] = 0\n",
        "itos = {i: s for s, i in stoi.items()}\n",
        "print(itos)"
      ],
      "metadata": {
        "colab": {
          "base_uri": "https://localhost:8080/"
        },
        "id": "OLik0XoV7ZLL",
        "outputId": "962c48e0-b138-4a15-ba68-2d3368faf944"
      },
      "execution_count": 5,
      "outputs": [
        {
          "output_type": "stream",
          "name": "stdout",
          "text": [
            "{1: 'a', 2: 'b', 3: 'c', 4: 'd', 5: 'e', 6: 'f', 7: 'g', 8: 'h', 9: 'i', 10: 'j', 11: 'k', 12: 'l', 13: 'm', 14: 'n', 15: 'o', 16: 'p', 17: 'q', 18: 'r', 19: 's', 20: 't', 21: 'u', 22: 'v', 23: 'w', 24: 'x', 25: 'y', 26: 'z', 0: '.'}\n"
          ]
        }
      ]
    },
    {
      "cell_type": "code",
      "source": [
        "block_size = 3\n",
        "X, Y = [], []\n",
        "for w in words[:5]:\n",
        "  # print(w)\n",
        "  context = [0] * block_size\n",
        "  for ch in w + '.':\n",
        "    ix = stoi[ch]\n",
        "    X.append(context)\n",
        "    Y.append(ix)\n",
        "    print(''.join(itos[i] for i in context), '--->', itos[ix])\n",
        "    context = context[1:] + [ix]\n",
        "\n",
        "X = torch.tensor(X)\n",
        "Y = torch.tensor(Y)"
      ],
      "metadata": {
        "colab": {
          "base_uri": "https://localhost:8080/"
        },
        "id": "mIkBGESq7tdG",
        "outputId": "c1ae6777-9eda-4ac4-d129-a1fcf699b4b4"
      },
      "execution_count": 7,
      "outputs": [
        {
          "output_type": "stream",
          "name": "stdout",
          "text": [
            "... ---> e\n",
            "..e ---> m\n",
            ".em ---> m\n",
            "emm ---> a\n",
            "mma ---> .\n",
            "... ---> o\n",
            "..o ---> l\n",
            ".ol ---> i\n",
            "oli ---> v\n",
            "liv ---> i\n",
            "ivi ---> a\n",
            "via ---> .\n",
            "... ---> a\n",
            "..a ---> v\n",
            ".av ---> a\n",
            "ava ---> .\n",
            "... ---> i\n",
            "..i ---> s\n",
            ".is ---> a\n",
            "isa ---> b\n",
            "sab ---> e\n",
            "abe ---> l\n",
            "bel ---> l\n",
            "ell ---> a\n",
            "lla ---> .\n",
            "... ---> s\n",
            "..s ---> o\n",
            ".so ---> p\n",
            "sop ---> h\n",
            "oph ---> i\n",
            "phi ---> a\n",
            "hia ---> .\n"
          ]
        }
      ]
    },
    {
      "cell_type": "code",
      "source": [
        "X.shape, X.dtype, Y.shape, Y.dtype"
      ],
      "metadata": {
        "colab": {
          "base_uri": "https://localhost:8080/"
        },
        "id": "NlzkHuKAEoZ2",
        "outputId": "4006994f-1165-4656-f5bb-e0b632e1b506"
      },
      "execution_count": 8,
      "outputs": [
        {
          "output_type": "execute_result",
          "data": {
            "text/plain": [
              "(torch.Size([32, 3]), torch.int64, torch.Size([32]), torch.int64)"
            ]
          },
          "metadata": {},
          "execution_count": 8
        }
      ]
    },
    {
      "cell_type": "code",
      "source": [
        "Y"
      ],
      "metadata": {
        "colab": {
          "base_uri": "https://localhost:8080/"
        },
        "id": "_YFEJShuJKOm",
        "outputId": "3e967df0-2c8c-480c-984d-502dc63180ba"
      },
      "execution_count": 9,
      "outputs": [
        {
          "output_type": "execute_result",
          "data": {
            "text/plain": [
              "tensor([ 5, 13, 13,  1,  0, 15, 12,  9, 22,  9,  1,  0,  1, 22,  1,  0,  9, 19,\n",
              "         1,  2,  5, 12, 12,  1,  0, 19, 15, 16,  8,  9,  1,  0])"
            ]
          },
          "metadata": {},
          "execution_count": 9
        }
      ]
    },
    {
      "cell_type": "code",
      "source": [
        "C = torch.randn((27, 2))\n",
        "C"
      ],
      "metadata": {
        "colab": {
          "base_uri": "https://localhost:8080/"
        },
        "id": "L3cc7okmJKjM",
        "outputId": "1bafe250-22ca-42af-e254-7df7ea1c3a26"
      },
      "execution_count": 10,
      "outputs": [
        {
          "output_type": "execute_result",
          "data": {
            "text/plain": [
              "tensor([[-1.4368,  0.1860],\n",
              "        [ 2.5550, -1.4237],\n",
              "        [-2.0375,  0.4774],\n",
              "        [ 0.1377, -0.8497],\n",
              "        [ 0.8348,  1.8303],\n",
              "        [ 1.2020,  0.4684],\n",
              "        [ 0.4887, -0.5052],\n",
              "        [-1.3784, -1.4674],\n",
              "        [ 2.3329,  0.5171],\n",
              "        [-0.4604,  0.6290],\n",
              "        [ 1.1911, -0.4697],\n",
              "        [-0.3607, -1.4488],\n",
              "        [-0.3911,  0.9255],\n",
              "        [ 1.3369, -0.4097],\n",
              "        [-0.7166,  0.6591],\n",
              "        [ 0.0963, -0.5682],\n",
              "        [-0.3190, -0.0952],\n",
              "        [ 0.7175, -0.6163],\n",
              "        [-0.7017, -0.6974],\n",
              "        [-0.4208, -0.1706],\n",
              "        [-0.2117, -0.2877],\n",
              "        [ 1.5767,  0.1579],\n",
              "        [-0.7529, -1.4618],\n",
              "        [ 0.0956, -1.3348],\n",
              "        [ 0.1459,  0.1183],\n",
              "        [ 1.7446,  0.3453],\n",
              "        [-0.4839, -1.6415]])"
            ]
          },
          "metadata": {},
          "execution_count": 10
        }
      ]
    },
    {
      "cell_type": "code",
      "source": [
        "F.one_hot(torch.tensor(5), num_classes = 27).float()"
      ],
      "metadata": {
        "colab": {
          "base_uri": "https://localhost:8080/"
        },
        "id": "pG8BSjZ2JN2x",
        "outputId": "4fc65b25-7501-49a5-a0ac-8475d1f10d6c"
      },
      "execution_count": 11,
      "outputs": [
        {
          "output_type": "execute_result",
          "data": {
            "text/plain": [
              "tensor([0., 0., 0., 0., 0., 1., 0., 0., 0., 0., 0., 0., 0., 0., 0., 0., 0., 0.,\n",
              "        0., 0., 0., 0., 0., 0., 0., 0., 0.])"
            ]
          },
          "metadata": {},
          "execution_count": 11
        }
      ]
    },
    {
      "cell_type": "code",
      "source": [
        "X"
      ],
      "metadata": {
        "colab": {
          "base_uri": "https://localhost:8080/"
        },
        "id": "JvQ7rUhjLi2W",
        "outputId": "01f02486-db45-4cb3-852a-b6c7c36e2a6c"
      },
      "execution_count": 13,
      "outputs": [
        {
          "output_type": "execute_result",
          "data": {
            "text/plain": [
              "tensor([[ 0,  0,  0],\n",
              "        [ 0,  0,  5],\n",
              "        [ 0,  5, 13],\n",
              "        [ 5, 13, 13],\n",
              "        [13, 13,  1],\n",
              "        [ 0,  0,  0],\n",
              "        [ 0,  0, 15],\n",
              "        [ 0, 15, 12],\n",
              "        [15, 12,  9],\n",
              "        [12,  9, 22],\n",
              "        [ 9, 22,  9],\n",
              "        [22,  9,  1],\n",
              "        [ 0,  0,  0],\n",
              "        [ 0,  0,  1],\n",
              "        [ 0,  1, 22],\n",
              "        [ 1, 22,  1],\n",
              "        [ 0,  0,  0],\n",
              "        [ 0,  0,  9],\n",
              "        [ 0,  9, 19],\n",
              "        [ 9, 19,  1],\n",
              "        [19,  1,  2],\n",
              "        [ 1,  2,  5],\n",
              "        [ 2,  5, 12],\n",
              "        [ 5, 12, 12],\n",
              "        [12, 12,  1],\n",
              "        [ 0,  0,  0],\n",
              "        [ 0,  0, 19],\n",
              "        [ 0, 19, 15],\n",
              "        [19, 15, 16],\n",
              "        [15, 16,  8],\n",
              "        [16,  8,  9],\n",
              "        [ 8,  9,  1]])"
            ]
          },
          "metadata": {},
          "execution_count": 13
        }
      ]
    },
    {
      "cell_type": "code",
      "source": [
        "Y"
      ],
      "metadata": {
        "colab": {
          "base_uri": "https://localhost:8080/"
        },
        "id": "gd2JNvuTMj6y",
        "outputId": "d53b99ca-9aab-4eba-87aa-110e58bf9e54"
      },
      "execution_count": 14,
      "outputs": [
        {
          "output_type": "execute_result",
          "data": {
            "text/plain": [
              "tensor([ 5, 13, 13,  1,  0, 15, 12,  9, 22,  9,  1,  0,  1, 22,  1,  0,  9, 19,\n",
              "         1,  2,  5, 12, 12,  1,  0, 19, 15, 16,  8,  9,  1,  0])"
            ]
          },
          "metadata": {},
          "execution_count": 14
        }
      ]
    },
    {
      "cell_type": "code",
      "source": [
        "C[X].shape"
      ],
      "metadata": {
        "colab": {
          "base_uri": "https://localhost:8080/"
        },
        "id": "AWBPsdC1LHPo",
        "outputId": "93205007-e1dc-4ead-f952-3c54d2ef1f2a"
      },
      "execution_count": 12,
      "outputs": [
        {
          "output_type": "execute_result",
          "data": {
            "text/plain": [
              "torch.Size([32, 3, 2])"
            ]
          },
          "metadata": {},
          "execution_count": 12
        }
      ]
    },
    {
      "cell_type": "code",
      "source": [
        "X[2]"
      ],
      "metadata": {
        "colab": {
          "base_uri": "https://localhost:8080/"
        },
        "id": "c3s1C-M2Mprn",
        "outputId": "5a787c1a-b643-4993-d3fd-48793d398a9d"
      },
      "execution_count": 15,
      "outputs": [
        {
          "output_type": "execute_result",
          "data": {
            "text/plain": [
              "tensor([ 0,  5, 13])"
            ]
          },
          "metadata": {},
          "execution_count": 15
        }
      ]
    },
    {
      "cell_type": "code",
      "source": [
        "C[X[2]]"
      ],
      "metadata": {
        "colab": {
          "base_uri": "https://localhost:8080/"
        },
        "id": "PEffUpHVLcEB",
        "outputId": "c7415ed7-6b20-48f7-fb2b-08a48f5f7e7a"
      },
      "execution_count": 16,
      "outputs": [
        {
          "output_type": "execute_result",
          "data": {
            "text/plain": [
              "tensor([[-1.4368,  0.1860],\n",
              "        [ 1.2020,  0.4684],\n",
              "        [ 1.3369, -0.4097]])"
            ]
          },
          "metadata": {},
          "execution_count": 16
        }
      ]
    },
    {
      "cell_type": "code",
      "source": [
        "emb = C[X]\n",
        "emb.shape"
      ],
      "metadata": {
        "colab": {
          "base_uri": "https://localhost:8080/"
        },
        "id": "CPBDCeqoMr_M",
        "outputId": "e537ea70-a154-4e09-cc71-f06f464ac7d7"
      },
      "execution_count": 17,
      "outputs": [
        {
          "output_type": "execute_result",
          "data": {
            "text/plain": [
              "torch.Size([32, 3, 2])"
            ]
          },
          "metadata": {},
          "execution_count": 17
        }
      ]
    },
    {
      "cell_type": "code",
      "source": [
        "W1 = torch.randn((6, 100))\n",
        "b1 = torch.randn(100)"
      ],
      "metadata": {
        "id": "f9uiAG3iMtce"
      },
      "execution_count": 18,
      "outputs": []
    },
    {
      "cell_type": "code",
      "source": [
        "torch.cat([emb[:, 0, :], emb[:, 1, :], emb[:, 2, :]], 1).shape"
      ],
      "metadata": {
        "colab": {
          "base_uri": "https://localhost:8080/"
        },
        "id": "ST4R2UC9M4o7",
        "outputId": "f2940acb-2606-4a90-a4b4-eabaf91467b9"
      },
      "execution_count": 20,
      "outputs": [
        {
          "output_type": "execute_result",
          "data": {
            "text/plain": [
              "torch.Size([32, 6])"
            ]
          },
          "metadata": {},
          "execution_count": 20
        }
      ]
    },
    {
      "cell_type": "code",
      "source": [
        "emb[:, 0, :].shape, emb[:, 1, :].shape, emb[:, 2, :].shape"
      ],
      "metadata": {
        "colab": {
          "base_uri": "https://localhost:8080/"
        },
        "id": "B2ZixAxnNJH9",
        "outputId": "ce233fed-62ee-461d-db2e-3c0065c2442b"
      },
      "execution_count": 21,
      "outputs": [
        {
          "output_type": "execute_result",
          "data": {
            "text/plain": [
              "(torch.Size([32, 2]), torch.Size([32, 2]), torch.Size([32, 2]))"
            ]
          },
          "metadata": {},
          "execution_count": 21
        }
      ]
    },
    {
      "cell_type": "code",
      "source": [
        "# automate previous process\n",
        "torch.cat(torch.unbind(emb, 1), 1)"
      ],
      "metadata": {
        "colab": {
          "base_uri": "https://localhost:8080/"
        },
        "id": "Qd9e24jROgVD",
        "outputId": "cba95455-9860-4d86-ac6d-c7722bfec395"
      },
      "execution_count": 22,
      "outputs": [
        {
          "output_type": "execute_result",
          "data": {
            "text/plain": [
              "tensor([[-1.4368,  0.1860, -1.4368,  0.1860, -1.4368,  0.1860],\n",
              "        [-1.4368,  0.1860, -1.4368,  0.1860,  1.2020,  0.4684],\n",
              "        [-1.4368,  0.1860,  1.2020,  0.4684,  1.3369, -0.4097],\n",
              "        [ 1.2020,  0.4684,  1.3369, -0.4097,  1.3369, -0.4097],\n",
              "        [ 1.3369, -0.4097,  1.3369, -0.4097,  2.5550, -1.4237],\n",
              "        [-1.4368,  0.1860, -1.4368,  0.1860, -1.4368,  0.1860],\n",
              "        [-1.4368,  0.1860, -1.4368,  0.1860,  0.0963, -0.5682],\n",
              "        [-1.4368,  0.1860,  0.0963, -0.5682, -0.3911,  0.9255],\n",
              "        [ 0.0963, -0.5682, -0.3911,  0.9255, -0.4604,  0.6290],\n",
              "        [-0.3911,  0.9255, -0.4604,  0.6290, -0.7529, -1.4618],\n",
              "        [-0.4604,  0.6290, -0.7529, -1.4618, -0.4604,  0.6290],\n",
              "        [-0.7529, -1.4618, -0.4604,  0.6290,  2.5550, -1.4237],\n",
              "        [-1.4368,  0.1860, -1.4368,  0.1860, -1.4368,  0.1860],\n",
              "        [-1.4368,  0.1860, -1.4368,  0.1860,  2.5550, -1.4237],\n",
              "        [-1.4368,  0.1860,  2.5550, -1.4237, -0.7529, -1.4618],\n",
              "        [ 2.5550, -1.4237, -0.7529, -1.4618,  2.5550, -1.4237],\n",
              "        [-1.4368,  0.1860, -1.4368,  0.1860, -1.4368,  0.1860],\n",
              "        [-1.4368,  0.1860, -1.4368,  0.1860, -0.4604,  0.6290],\n",
              "        [-1.4368,  0.1860, -0.4604,  0.6290, -0.4208, -0.1706],\n",
              "        [-0.4604,  0.6290, -0.4208, -0.1706,  2.5550, -1.4237],\n",
              "        [-0.4208, -0.1706,  2.5550, -1.4237, -2.0375,  0.4774],\n",
              "        [ 2.5550, -1.4237, -2.0375,  0.4774,  1.2020,  0.4684],\n",
              "        [-2.0375,  0.4774,  1.2020,  0.4684, -0.3911,  0.9255],\n",
              "        [ 1.2020,  0.4684, -0.3911,  0.9255, -0.3911,  0.9255],\n",
              "        [-0.3911,  0.9255, -0.3911,  0.9255,  2.5550, -1.4237],\n",
              "        [-1.4368,  0.1860, -1.4368,  0.1860, -1.4368,  0.1860],\n",
              "        [-1.4368,  0.1860, -1.4368,  0.1860, -0.4208, -0.1706],\n",
              "        [-1.4368,  0.1860, -0.4208, -0.1706,  0.0963, -0.5682],\n",
              "        [-0.4208, -0.1706,  0.0963, -0.5682, -0.3190, -0.0952],\n",
              "        [ 0.0963, -0.5682, -0.3190, -0.0952,  2.3329,  0.5171],\n",
              "        [-0.3190, -0.0952,  2.3329,  0.5171, -0.4604,  0.6290],\n",
              "        [ 2.3329,  0.5171, -0.4604,  0.6290,  2.5550, -1.4237]])"
            ]
          },
          "metadata": {},
          "execution_count": 22
        }
      ]
    },
    {
      "cell_type": "code",
      "source": [
        "a = torch.arange(18)"
      ],
      "metadata": {
        "id": "T9ydm-ZDOs48"
      },
      "execution_count": 24,
      "outputs": []
    },
    {
      "cell_type": "code",
      "source": [
        "a.shape"
      ],
      "metadata": {
        "colab": {
          "base_uri": "https://localhost:8080/"
        },
        "id": "W0AZPtouO_nH",
        "outputId": "ac7fbda8-44e2-412c-9ef4-e82dcb4048a5"
      },
      "execution_count": 25,
      "outputs": [
        {
          "output_type": "execute_result",
          "data": {
            "text/plain": [
              "torch.Size([18])"
            ]
          },
          "metadata": {},
          "execution_count": 25
        }
      ]
    },
    {
      "cell_type": "code",
      "source": [
        "a.view(3, 3, 2)"
      ],
      "metadata": {
        "colab": {
          "base_uri": "https://localhost:8080/"
        },
        "id": "TnCv2zIlPAbX",
        "outputId": "8a42f195-befb-499d-c695-1a56d59f563f"
      },
      "execution_count": 26,
      "outputs": [
        {
          "output_type": "execute_result",
          "data": {
            "text/plain": [
              "tensor([[[ 0,  1],\n",
              "         [ 2,  3],\n",
              "         [ 4,  5]],\n",
              "\n",
              "        [[ 6,  7],\n",
              "         [ 8,  9],\n",
              "         [10, 11]],\n",
              "\n",
              "        [[12, 13],\n",
              "         [14, 15],\n",
              "         [16, 17]]])"
            ]
          },
          "metadata": {},
          "execution_count": 26
        }
      ]
    },
    {
      "cell_type": "code",
      "source": [
        "a.storage()"
      ],
      "metadata": {
        "colab": {
          "base_uri": "https://localhost:8080/"
        },
        "id": "rsnCNWItPBxV",
        "outputId": "231e3154-3c30-44e9-8c78-5448c54bfeea"
      },
      "execution_count": 27,
      "outputs": [
        {
          "output_type": "stream",
          "name": "stderr",
          "text": [
            "<ipython-input-27-d39b3459ecdd>:1: UserWarning: TypedStorage is deprecated. It will be removed in the future and UntypedStorage will be the only storage class. This should only matter to you if you are using storages directly.  To access UntypedStorage directly, use tensor.untyped_storage() instead of tensor.storage()\n",
            "  a.storage()\n"
          ]
        },
        {
          "output_type": "execute_result",
          "data": {
            "text/plain": [
              " 0\n",
              " 1\n",
              " 2\n",
              " 3\n",
              " 4\n",
              " 5\n",
              " 6\n",
              " 7\n",
              " 8\n",
              " 9\n",
              " 10\n",
              " 11\n",
              " 12\n",
              " 13\n",
              " 14\n",
              " 15\n",
              " 16\n",
              " 17\n",
              "[torch.storage.TypedStorage(dtype=torch.int64, device=cpu) of size 18]"
            ]
          },
          "metadata": {},
          "execution_count": 27
        }
      ]
    },
    {
      "cell_type": "code",
      "source": [
        "emb.view(32, 6)       # view is more efficient"
      ],
      "metadata": {
        "colab": {
          "base_uri": "https://localhost:8080/"
        },
        "id": "e_SZ3r_iPcGQ",
        "outputId": "d0f46981-1406-450c-eb1b-c69f6eadf6b6"
      },
      "execution_count": 28,
      "outputs": [
        {
          "output_type": "execute_result",
          "data": {
            "text/plain": [
              "tensor([[-1.4368,  0.1860, -1.4368,  0.1860, -1.4368,  0.1860],\n",
              "        [-1.4368,  0.1860, -1.4368,  0.1860,  1.2020,  0.4684],\n",
              "        [-1.4368,  0.1860,  1.2020,  0.4684,  1.3369, -0.4097],\n",
              "        [ 1.2020,  0.4684,  1.3369, -0.4097,  1.3369, -0.4097],\n",
              "        [ 1.3369, -0.4097,  1.3369, -0.4097,  2.5550, -1.4237],\n",
              "        [-1.4368,  0.1860, -1.4368,  0.1860, -1.4368,  0.1860],\n",
              "        [-1.4368,  0.1860, -1.4368,  0.1860,  0.0963, -0.5682],\n",
              "        [-1.4368,  0.1860,  0.0963, -0.5682, -0.3911,  0.9255],\n",
              "        [ 0.0963, -0.5682, -0.3911,  0.9255, -0.4604,  0.6290],\n",
              "        [-0.3911,  0.9255, -0.4604,  0.6290, -0.7529, -1.4618],\n",
              "        [-0.4604,  0.6290, -0.7529, -1.4618, -0.4604,  0.6290],\n",
              "        [-0.7529, -1.4618, -0.4604,  0.6290,  2.5550, -1.4237],\n",
              "        [-1.4368,  0.1860, -1.4368,  0.1860, -1.4368,  0.1860],\n",
              "        [-1.4368,  0.1860, -1.4368,  0.1860,  2.5550, -1.4237],\n",
              "        [-1.4368,  0.1860,  2.5550, -1.4237, -0.7529, -1.4618],\n",
              "        [ 2.5550, -1.4237, -0.7529, -1.4618,  2.5550, -1.4237],\n",
              "        [-1.4368,  0.1860, -1.4368,  0.1860, -1.4368,  0.1860],\n",
              "        [-1.4368,  0.1860, -1.4368,  0.1860, -0.4604,  0.6290],\n",
              "        [-1.4368,  0.1860, -0.4604,  0.6290, -0.4208, -0.1706],\n",
              "        [-0.4604,  0.6290, -0.4208, -0.1706,  2.5550, -1.4237],\n",
              "        [-0.4208, -0.1706,  2.5550, -1.4237, -2.0375,  0.4774],\n",
              "        [ 2.5550, -1.4237, -2.0375,  0.4774,  1.2020,  0.4684],\n",
              "        [-2.0375,  0.4774,  1.2020,  0.4684, -0.3911,  0.9255],\n",
              "        [ 1.2020,  0.4684, -0.3911,  0.9255, -0.3911,  0.9255],\n",
              "        [-0.3911,  0.9255, -0.3911,  0.9255,  2.5550, -1.4237],\n",
              "        [-1.4368,  0.1860, -1.4368,  0.1860, -1.4368,  0.1860],\n",
              "        [-1.4368,  0.1860, -1.4368,  0.1860, -0.4208, -0.1706],\n",
              "        [-1.4368,  0.1860, -0.4208, -0.1706,  0.0963, -0.5682],\n",
              "        [-0.4208, -0.1706,  0.0963, -0.5682, -0.3190, -0.0952],\n",
              "        [ 0.0963, -0.5682, -0.3190, -0.0952,  2.3329,  0.5171],\n",
              "        [-0.3190, -0.0952,  2.3329,  0.5171, -0.4604,  0.6290],\n",
              "        [ 2.3329,  0.5171, -0.4604,  0.6290,  2.5550, -1.4237]])"
            ]
          },
          "metadata": {},
          "execution_count": 28
        }
      ]
    },
    {
      "cell_type": "code",
      "source": [
        "emb.view(32, 6) == torch.cat(torch.unbind(emb, 1), 1)"
      ],
      "metadata": {
        "colab": {
          "base_uri": "https://localhost:8080/"
        },
        "id": "eEFtNZMDQLf9",
        "outputId": "89c86bcd-3898-4ae7-98a3-6ba234804c5a"
      },
      "execution_count": 29,
      "outputs": [
        {
          "output_type": "execute_result",
          "data": {
            "text/plain": [
              "tensor([[True, True, True, True, True, True],\n",
              "        [True, True, True, True, True, True],\n",
              "        [True, True, True, True, True, True],\n",
              "        [True, True, True, True, True, True],\n",
              "        [True, True, True, True, True, True],\n",
              "        [True, True, True, True, True, True],\n",
              "        [True, True, True, True, True, True],\n",
              "        [True, True, True, True, True, True],\n",
              "        [True, True, True, True, True, True],\n",
              "        [True, True, True, True, True, True],\n",
              "        [True, True, True, True, True, True],\n",
              "        [True, True, True, True, True, True],\n",
              "        [True, True, True, True, True, True],\n",
              "        [True, True, True, True, True, True],\n",
              "        [True, True, True, True, True, True],\n",
              "        [True, True, True, True, True, True],\n",
              "        [True, True, True, True, True, True],\n",
              "        [True, True, True, True, True, True],\n",
              "        [True, True, True, True, True, True],\n",
              "        [True, True, True, True, True, True],\n",
              "        [True, True, True, True, True, True],\n",
              "        [True, True, True, True, True, True],\n",
              "        [True, True, True, True, True, True],\n",
              "        [True, True, True, True, True, True],\n",
              "        [True, True, True, True, True, True],\n",
              "        [True, True, True, True, True, True],\n",
              "        [True, True, True, True, True, True],\n",
              "        [True, True, True, True, True, True],\n",
              "        [True, True, True, True, True, True],\n",
              "        [True, True, True, True, True, True],\n",
              "        [True, True, True, True, True, True],\n",
              "        [True, True, True, True, True, True]])"
            ]
          },
          "metadata": {},
          "execution_count": 29
        }
      ]
    },
    {
      "cell_type": "code",
      "source": [
        "h = torch.tanh(emb.view(emb.shape[0], 6) @ W1 + b1)"
      ],
      "metadata": {
        "id": "X6IC6k9vQQ9J"
      },
      "execution_count": 30,
      "outputs": []
    },
    {
      "cell_type": "code",
      "source": [
        "W2 = torch.randn((100, 27))\n",
        "b2 = torch.randn(27)"
      ],
      "metadata": {
        "id": "-GpC8CCUQqj0"
      },
      "execution_count": 31,
      "outputs": []
    },
    {
      "cell_type": "code",
      "source": [
        "logits = h @ W2 + b2"
      ],
      "metadata": {
        "id": "wAn78YblQvTi"
      },
      "execution_count": 32,
      "outputs": []
    },
    {
      "cell_type": "code",
      "source": [
        "logits.shape"
      ],
      "metadata": {
        "colab": {
          "base_uri": "https://localhost:8080/"
        },
        "id": "UcPg3HS2Q5tk",
        "outputId": "93baeb51-21cd-4fc1-bdcc-56bbcd0f4acf"
      },
      "execution_count": 33,
      "outputs": [
        {
          "output_type": "execute_result",
          "data": {
            "text/plain": [
              "torch.Size([32, 27])"
            ]
          },
          "metadata": {},
          "execution_count": 33
        }
      ]
    },
    {
      "cell_type": "code",
      "source": [
        "counts = logits.exp()   # softmax"
      ],
      "metadata": {
        "id": "N9SFbT9DQ7Xl"
      },
      "execution_count": 34,
      "outputs": []
    },
    {
      "cell_type": "code",
      "source": [
        "prob = counts / counts.sum(1, keepdims = True)    # softmax"
      ],
      "metadata": {
        "id": "UV7GqPSaRAtO"
      },
      "execution_count": 35,
      "outputs": []
    },
    {
      "cell_type": "code",
      "source": [
        "prob.shape"
      ],
      "metadata": {
        "colab": {
          "base_uri": "https://localhost:8080/"
        },
        "id": "TT93uCkqRKZE",
        "outputId": "76c9d696-15e4-436b-c60e-d059a88c7f07"
      },
      "execution_count": 36,
      "outputs": [
        {
          "output_type": "execute_result",
          "data": {
            "text/plain": [
              "torch.Size([32, 27])"
            ]
          },
          "metadata": {},
          "execution_count": 36
        }
      ]
    },
    {
      "cell_type": "code",
      "source": [
        "Y"
      ],
      "metadata": {
        "colab": {
          "base_uri": "https://localhost:8080/"
        },
        "id": "WTfl4H71RMHx",
        "outputId": "e99ce89f-e5a3-4a10-f39a-98dffec34f41"
      },
      "execution_count": 37,
      "outputs": [
        {
          "output_type": "execute_result",
          "data": {
            "text/plain": [
              "tensor([ 5, 13, 13,  1,  0, 15, 12,  9, 22,  9,  1,  0,  1, 22,  1,  0,  9, 19,\n",
              "         1,  2,  5, 12, 12,  1,  0, 19, 15, 16,  8,  9,  1,  0])"
            ]
          },
          "metadata": {},
          "execution_count": 37
        }
      ]
    },
    {
      "cell_type": "code",
      "source": [
        "prob[torch.arange(32), Y]"
      ],
      "metadata": {
        "colab": {
          "base_uri": "https://localhost:8080/"
        },
        "id": "9nzs_mqJRMm7",
        "outputId": "a21bd173-dceb-49ec-9409-2321b8fba4e6"
      },
      "execution_count": 38,
      "outputs": [
        {
          "output_type": "execute_result",
          "data": {
            "text/plain": [
              "tensor([3.7513e-12, 5.2550e-11, 7.6791e-04, 1.1204e-01, 3.8322e-11, 5.3960e-08,\n",
              "        1.0347e-11, 1.0711e-01, 1.2560e-06, 9.4647e-01, 1.0930e-03, 9.8121e-12,\n",
              "        2.3687e-13, 4.6957e-16, 9.0441e-06, 2.8835e-09, 2.1015e-01, 6.8291e-09,\n",
              "        1.6162e-16, 1.9351e-02, 9.9999e-01, 2.9265e-12, 2.8464e-07, 6.6131e-11,\n",
              "        1.8942e-10, 1.1982e-11, 6.2864e-06, 4.8331e-10, 2.4377e-04, 1.0085e-02,\n",
              "        2.0010e-08, 1.0222e-09])"
            ]
          },
          "metadata": {},
          "execution_count": 38
        }
      ]
    },
    {
      "cell_type": "code",
      "source": [],
      "metadata": {
        "id": "qGHiZZDdRO5T"
      },
      "execution_count": null,
      "outputs": []
    }
  ]
}